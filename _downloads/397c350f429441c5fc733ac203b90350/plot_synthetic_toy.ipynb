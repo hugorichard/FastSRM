{
  "cells": [
    {
      "cell_type": "markdown",
      "metadata": {},
      "source": [
        "\n# FastSRM : running time and convergence\n\nThis example demonstrates on a very small dataset that\nthe optimal atlas used in FastSRM speeds up the computation\nof shared components but without any loss of accuracy.\n"
      ]
    },
    {
      "cell_type": "code",
      "execution_count": null,
      "metadata": {
        "collapsed": false
      },
      "outputs": [],
      "source": [
        "import os\nfrom time import time\nfrom fastsrm.fastsrm import fastsrm\nfrom fastsrm.srm import detsrm, probsrm, projection\nfrom fastsrm.utils import reg_error\nimport numpy as np\nimport matplotlib.pyplot as plt\nimport matplotlib.ticker as plticker\nfrom matplotlib.cm import get_cmap\nfrom joblib import delayed, Parallel\nprint(\"Starting FastSRM example\")\n\n\ndim = (15, 15, 15)\nm, v, k, n = 5, np.prod(dim), 20, 30\n\n\ndef do_expe(it, seed, algo):\n    rng = np.random.RandomState(seed)\n    Sigma = rng.dirichlet(np.ones(k), 1).flatten()\n    S = np.sqrt(Sigma)[:, None] * rng.randn(k, n)\n    W = np.array([projection(rng.randn(v, k)) for i in range(m)])\n    sigmas = 0.1 * rng.rand(m)\n    N = np.array([sigmas[i] * rng.randn(v, n) for i in range(m)])\n    X = np.array([W[i].dot(S) + N[i] for i in range(m)])\n    S_true = S\n    t_init = time()\n\n    def callback(source, gnorm, current_iter, current_time):\n        return (\n            float(reg_error(np.copy(S_true), np.copy(source))),\n            float(current_time - t_init),\n            current_iter,\n            seed,\n            algo,\n            float(gnorm),\n        )\n\n    if algo == \"detsrm\":\n        S = detsrm(\n            X, k, n_iter=it, random_state=rng, callback=callback, tol=-1,\n        )[-1]\n    if algo == \"probsrm\":\n        S = probsrm(\n            X, k, n_iter=it, random_state=rng, callback=callback, tol=-1,\n        )[-1]\n    if algo == \"fastdet\":\n        S = fastsrm(\n            [[x] for x in X],\n            k,\n            n_iter=it,\n            random_state=rng,\n            callback=callback,\n            tol=-1,\n            method=\"det\",\n        )[-1]\n    if algo == \"fastprob\":\n        S = fastsrm(\n            [[x] for x in X],\n            k,\n            n_iter=it,\n            random_state=rng,\n            callback=callback,\n            tol=-1,\n            method=\"prob\",\n        )[-1]\n    return np.array(S)\n\n\niters = 20\nos.makedirs(\"./results\", exist_ok=True)\nalgos_det = [\"detsrm\", \"fastdet\"]\nalgos_prob = [\"probsrm\", \"fastprob\"]\nalgos = algos_det + algos_prob\nS = []\nfor algo in algos:\n    resS = np.array([do_expe(20, seed, algo) for seed in range(5)])\n    S.append(resS)\n\nindex = {a: k for k, a in enumerate(algos)}\nloc = plticker.MultipleLocator(base=10)\n\nNAMES = {}\nNAMES[\"probsrm\"] = \"None\"\nNAMES[\"detsrm\"] = \"None\"\nNAMES[\"fastdet\"] = \"Optimal\"\nNAMES[\"fastprob\"] = \"Optimal\"\nseeds = np.arange(30)\n\n\nvir = get_cmap(\"Set2\", len(algos_det))\nf, axes = plt.subplots(3, 2, sharex=\"col\", sharey=\"row\", figsize=(10, 9))\nfor j, algos_group in enumerate([algos_det, algos_prob]):\n    for c, algo in enumerate(algos_group):\n        res = S[index[algo]]\n        iters = np.arange(len(res[0]))\n        times = res[:, :, 1].astype(float)\n        errors = res[:, :, 0].astype(float)\n        gnorms = res[:, :, 5].astype(float)\n        linestyle = \"-\"\n        if \"fast\" in algo:\n            marker = \"x\"\n        else:\n            marker = \"o\"\n\n        axes[0, j].plot(\n            iters,\n            np.median(errors, axis=0),\n            marker=marker,\n            linestyle=linestyle,\n            color=vir(c),\n            markevery=1,\n        )\n        axes[1, j].plot(\n            iters,\n            np.median(times, axis=0),\n            marker=marker,\n            linestyle=linestyle,\n            color=vir(c),\n            label=NAMES[algo],\n            markevery=1,\n        )\n        axes[2, j].plot(\n            iters,\n            np.median(gnorms, axis=0),\n            marker=marker,\n            linestyle=linestyle,\n            color=vir(c),\n            label=NAMES[algo],\n            markevery=1,\n        )\n        axes[0, j].fill_between(\n            iters,\n            np.quantile(errors, 0.25, axis=0),\n            np.quantile(errors, 0.75, axis=0),\n            color=vir(c),\n            alpha=0.1,\n        )\n        axes[1, j].fill_between(\n            iters,\n            np.quantile(times, 0.25, axis=0),\n            np.quantile(times, 0.75, axis=0),\n            color=vir(c),\n            alpha=0.1,\n        )\n        axes[2, j].fill_between(\n            iters,\n            np.quantile(gnorms, 0.25, axis=0),\n            np.quantile(gnorms, 0.75, axis=0),\n            color=vir(c),\n            alpha=0.1,\n        )\naxes[0, 0].set_yscale(\"log\")\naxes[1, 0].set_yscale(\"log\")\naxes[2, 0].set_yscale(\"log\")\ny_minor = plticker.LogLocator(\n    base=10.0, subs=np.arange(1.0, 10.0) * 0.1, numticks=10\n)\naxes[1, 0].set_yticks([1e-2, 1e-1, 1e0])\naxes[0, 0].yaxis.set_minor_locator(y_minor)\naxes[1, 0].yaxis.set_minor_locator(y_minor)\naxes[0, 0].set_title(\"DetSRM\")\naxes[0, 1].set_title(\"ProbSRM\")\naxes[1, 0].set_ylabel(\"Time (in s)\")\naxes[2, 0].set_ylabel(\"Convergence measure\")\naxes[0, 0].set_ylabel(\"Mean squared error\")\naxes[2, 0].set_xlabel(\"Number of iterations\")\naxes[2, 1].set_xlabel(\"Number of iterations\")\nplt.tick_params(axis=\"y\", which=\"minor\")\nplt.legend(loc=\"upper center\", bbox_to_anchor=(-0.1, 3.8), ncol=5, title=\"ATLAS\")\nplt.show()\nprint(\"Done\")"
      ]
    }
  ],
  "metadata": {
    "kernelspec": {
      "display_name": "Python 3",
      "language": "python",
      "name": "python3"
    },
    "language_info": {
      "codemirror_mode": {
        "name": "ipython",
        "version": 3
      },
      "file_extension": ".py",
      "mimetype": "text/x-python",
      "name": "python",
      "nbconvert_exporter": "python",
      "pygments_lexer": "ipython3",
      "version": "3.8.17"
    }
  },
  "nbformat": 4,
  "nbformat_minor": 0
}